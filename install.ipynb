{
 "cells": [
  {
   "cell_type": "code",
   "execution_count": null,
   "metadata": {},
   "outputs": [],
   "source": [
    "import nltk\n",
    "nltk.download(\"punkt\")"
   ]
  },
  {
   "cell_type": "code",
   "execution_count": 4,
   "metadata": {},
   "outputs": [],
   "source": [
    "# %cd BasicSR\n",
    "%pip install .\n",
    "# !python setup.py develop\n"
   ]
  },
  {
   "cell_type": "code",
   "execution_count": 1,
   "metadata": {},
   "outputs": [
    {
     "name": "stdout",
     "output_type": "stream",
     "text": [
      "Cloning into 'Real-ESRGAN'...\n",
      "remote: Enumerating objects: 755, done.\u001b[K\n",
      "remote: Total 755 (delta 0), reused 0 (delta 0), pack-reused 755\u001b[K\n",
      "Receiving objects: 100% (755/755), 5.37 MiB | 2.20 MiB/s, done.\n",
      "Resolving deltas: 100% (410/410), done.\n",
      "/home/raunaqjabbal/Video-pipeline/Real-ESRGAN\n",
      "Processing /home/raunaqjabbal/Video-pipeline/Real-ESRGAN\n",
      "  Preparing metadata (setup.py) ... \u001b[?25ldone\n",
      "\u001b[?25hRequirement already satisfied: basicsr>=1.4.2 in /home/raunaqjabbal/miniconda3/lib/python3.11/site-packages (from realesrgan==0.3.0) (1.4.2)\n",
      "Requirement already satisfied: facexlib>=0.2.5 in /home/raunaqjabbal/miniconda3/lib/python3.11/site-packages (from realesrgan==0.3.0) (0.3.0)\n",
      "Requirement already satisfied: gfpgan>=1.3.5 in /home/raunaqjabbal/miniconda3/lib/python3.11/site-packages (from realesrgan==0.3.0) (1.3.8)\n",
      "Requirement already satisfied: numpy in /home/raunaqjabbal/miniconda3/lib/python3.11/site-packages (from realesrgan==0.3.0) (1.25.2)\n",
      "Requirement already satisfied: opencv-python in /home/raunaqjabbal/miniconda3/lib/python3.11/site-packages (from realesrgan==0.3.0) (4.8.1.78)\n",
      "Requirement already satisfied: Pillow in /home/raunaqjabbal/miniconda3/lib/python3.11/site-packages (from realesrgan==0.3.0) (10.0.1)\n",
      "Requirement already satisfied: torch>=1.7 in /home/raunaqjabbal/miniconda3/lib/python3.11/site-packages (from realesrgan==0.3.0) (2.0.1)\n",
      "Requirement already satisfied: torchvision in /home/raunaqjabbal/miniconda3/lib/python3.11/site-packages (from realesrgan==0.3.0) (0.15.2)\n",
      "Requirement already satisfied: tqdm in /home/raunaqjabbal/miniconda3/lib/python3.11/site-packages (from realesrgan==0.3.0) (4.65.0)\n",
      "Requirement already satisfied: addict in /home/raunaqjabbal/miniconda3/lib/python3.11/site-packages (from basicsr>=1.4.2->realesrgan==0.3.0) (2.4.0)\n",
      "Requirement already satisfied: future in /home/raunaqjabbal/miniconda3/lib/python3.11/site-packages (from basicsr>=1.4.2->realesrgan==0.3.0) (0.18.3)\n",
      "Requirement already satisfied: lmdb in /home/raunaqjabbal/miniconda3/lib/python3.11/site-packages (from basicsr>=1.4.2->realesrgan==0.3.0) (1.4.1)\n",
      "Requirement already satisfied: pyyaml in /home/raunaqjabbal/miniconda3/lib/python3.11/site-packages (from basicsr>=1.4.2->realesrgan==0.3.0) (5.1)\n",
      "Requirement already satisfied: requests in /home/raunaqjabbal/miniconda3/lib/python3.11/site-packages (from basicsr>=1.4.2->realesrgan==0.3.0) (2.29.0)\n",
      "Requirement already satisfied: scikit-image in /home/raunaqjabbal/miniconda3/lib/python3.11/site-packages (from basicsr>=1.4.2->realesrgan==0.3.0) (0.21.0)\n",
      "Requirement already satisfied: scipy in /home/raunaqjabbal/miniconda3/lib/python3.11/site-packages (from basicsr>=1.4.2->realesrgan==0.3.0) (1.11.3)\n",
      "Requirement already satisfied: tb-nightly in /home/raunaqjabbal/miniconda3/lib/python3.11/site-packages (from basicsr>=1.4.2->realesrgan==0.3.0) (2.15.0a20231002)\n",
      "Requirement already satisfied: yapf in /home/raunaqjabbal/miniconda3/lib/python3.11/site-packages (from basicsr>=1.4.2->realesrgan==0.3.0) (0.40.2)\n",
      "Requirement already satisfied: filterpy in /home/raunaqjabbal/miniconda3/lib/python3.11/site-packages (from facexlib>=0.2.5->realesrgan==0.3.0) (1.4.5)\n",
      "Requirement already satisfied: numba in /home/raunaqjabbal/miniconda3/lib/python3.11/site-packages (from facexlib>=0.2.5->realesrgan==0.3.0) (0.58.0)\n",
      "Requirement already satisfied: filelock in /home/raunaqjabbal/miniconda3/lib/python3.11/site-packages (from torch>=1.7->realesrgan==0.3.0) (3.12.4)\n",
      "Requirement already satisfied: typing-extensions in /home/raunaqjabbal/miniconda3/lib/python3.11/site-packages (from torch>=1.7->realesrgan==0.3.0) (4.8.0)\n",
      "Requirement already satisfied: sympy in /home/raunaqjabbal/miniconda3/lib/python3.11/site-packages (from torch>=1.7->realesrgan==0.3.0) (1.12)\n",
      "Requirement already satisfied: networkx in /home/raunaqjabbal/miniconda3/lib/python3.11/site-packages (from torch>=1.7->realesrgan==0.3.0) (3.1)\n",
      "Requirement already satisfied: jinja2 in /home/raunaqjabbal/miniconda3/lib/python3.11/site-packages (from torch>=1.7->realesrgan==0.3.0) (3.1.2)\n",
      "Requirement already satisfied: nvidia-cuda-nvrtc-cu11==11.7.99 in /home/raunaqjabbal/miniconda3/lib/python3.11/site-packages (from torch>=1.7->realesrgan==0.3.0) (11.7.99)\n",
      "Requirement already satisfied: nvidia-cuda-runtime-cu11==11.7.99 in /home/raunaqjabbal/miniconda3/lib/python3.11/site-packages (from torch>=1.7->realesrgan==0.3.0) (11.7.99)\n",
      "Requirement already satisfied: nvidia-cuda-cupti-cu11==11.7.101 in /home/raunaqjabbal/miniconda3/lib/python3.11/site-packages (from torch>=1.7->realesrgan==0.3.0) (11.7.101)\n",
      "Requirement already satisfied: nvidia-cudnn-cu11==8.5.0.96 in /home/raunaqjabbal/miniconda3/lib/python3.11/site-packages (from torch>=1.7->realesrgan==0.3.0) (8.5.0.96)\n",
      "Requirement already satisfied: nvidia-cublas-cu11==11.10.3.66 in /home/raunaqjabbal/miniconda3/lib/python3.11/site-packages (from torch>=1.7->realesrgan==0.3.0) (11.10.3.66)\n",
      "Requirement already satisfied: nvidia-cufft-cu11==10.9.0.58 in /home/raunaqjabbal/miniconda3/lib/python3.11/site-packages (from torch>=1.7->realesrgan==0.3.0) (10.9.0.58)\n",
      "Requirement already satisfied: nvidia-curand-cu11==10.2.10.91 in /home/raunaqjabbal/miniconda3/lib/python3.11/site-packages (from torch>=1.7->realesrgan==0.3.0) (10.2.10.91)\n",
      "Requirement already satisfied: nvidia-cusolver-cu11==11.4.0.1 in /home/raunaqjabbal/miniconda3/lib/python3.11/site-packages (from torch>=1.7->realesrgan==0.3.0) (11.4.0.1)\n",
      "Requirement already satisfied: nvidia-cusparse-cu11==11.7.4.91 in /home/raunaqjabbal/miniconda3/lib/python3.11/site-packages (from torch>=1.7->realesrgan==0.3.0) (11.7.4.91)\n",
      "Requirement already satisfied: nvidia-nccl-cu11==2.14.3 in /home/raunaqjabbal/miniconda3/lib/python3.11/site-packages (from torch>=1.7->realesrgan==0.3.0) (2.14.3)\n",
      "Requirement already satisfied: nvidia-nvtx-cu11==11.7.91 in /home/raunaqjabbal/miniconda3/lib/python3.11/site-packages (from torch>=1.7->realesrgan==0.3.0) (11.7.91)\n",
      "Requirement already satisfied: triton==2.0.0 in /home/raunaqjabbal/miniconda3/lib/python3.11/site-packages (from torch>=1.7->realesrgan==0.3.0) (2.0.0)\n",
      "Requirement already satisfied: setuptools in /home/raunaqjabbal/miniconda3/lib/python3.11/site-packages (from nvidia-cublas-cu11==11.10.3.66->torch>=1.7->realesrgan==0.3.0) (67.8.0)\n",
      "Requirement already satisfied: wheel in /home/raunaqjabbal/miniconda3/lib/python3.11/site-packages (from nvidia-cublas-cu11==11.10.3.66->torch>=1.7->realesrgan==0.3.0) (0.38.4)\n",
      "Requirement already satisfied: cmake in /home/raunaqjabbal/miniconda3/lib/python3.11/site-packages (from triton==2.0.0->torch>=1.7->realesrgan==0.3.0) (3.27.6)\n",
      "Requirement already satisfied: lit in /home/raunaqjabbal/miniconda3/lib/python3.11/site-packages (from triton==2.0.0->torch>=1.7->realesrgan==0.3.0) (17.0.1)\n",
      "Requirement already satisfied: matplotlib in /home/raunaqjabbal/miniconda3/lib/python3.11/site-packages (from filterpy->facexlib>=0.2.5->realesrgan==0.3.0) (3.8.0)\n",
      "Requirement already satisfied: MarkupSafe>=2.0 in /home/raunaqjabbal/miniconda3/lib/python3.11/site-packages (from jinja2->torch>=1.7->realesrgan==0.3.0) (2.1.3)\n",
      "Requirement already satisfied: llvmlite<0.42,>=0.41.0dev0 in /home/raunaqjabbal/miniconda3/lib/python3.11/site-packages (from numba->facexlib>=0.2.5->realesrgan==0.3.0) (0.41.0)\n",
      "Requirement already satisfied: charset-normalizer<4,>=2 in /home/raunaqjabbal/miniconda3/lib/python3.11/site-packages (from requests->basicsr>=1.4.2->realesrgan==0.3.0) (2.0.4)\n",
      "Requirement already satisfied: idna<4,>=2.5 in /home/raunaqjabbal/miniconda3/lib/python3.11/site-packages (from requests->basicsr>=1.4.2->realesrgan==0.3.0) (3.4)\n",
      "Requirement already satisfied: urllib3<1.27,>=1.21.1 in /home/raunaqjabbal/miniconda3/lib/python3.11/site-packages (from requests->basicsr>=1.4.2->realesrgan==0.3.0) (1.26.16)\n",
      "Requirement already satisfied: certifi>=2017.4.17 in /home/raunaqjabbal/miniconda3/lib/python3.11/site-packages (from requests->basicsr>=1.4.2->realesrgan==0.3.0) (2023.7.22)\n",
      "Requirement already satisfied: imageio>=2.27 in /home/raunaqjabbal/miniconda3/lib/python3.11/site-packages (from scikit-image->basicsr>=1.4.2->realesrgan==0.3.0) (2.31.5)\n",
      "Requirement already satisfied: tifffile>=2022.8.12 in /home/raunaqjabbal/miniconda3/lib/python3.11/site-packages (from scikit-image->basicsr>=1.4.2->realesrgan==0.3.0) (2023.9.26)\n",
      "Requirement already satisfied: PyWavelets>=1.1.1 in /home/raunaqjabbal/miniconda3/lib/python3.11/site-packages (from scikit-image->basicsr>=1.4.2->realesrgan==0.3.0) (1.4.1)\n",
      "Requirement already satisfied: packaging>=21 in /home/raunaqjabbal/miniconda3/lib/python3.11/site-packages (from scikit-image->basicsr>=1.4.2->realesrgan==0.3.0) (23.0)\n",
      "Requirement already satisfied: lazy_loader>=0.2 in /home/raunaqjabbal/miniconda3/lib/python3.11/site-packages (from scikit-image->basicsr>=1.4.2->realesrgan==0.3.0) (0.3)\n",
      "Requirement already satisfied: mpmath>=0.19 in /home/raunaqjabbal/miniconda3/lib/python3.11/site-packages (from sympy->torch>=1.7->realesrgan==0.3.0) (1.3.0)\n",
      "Requirement already satisfied: absl-py>=0.4 in /home/raunaqjabbal/miniconda3/lib/python3.11/site-packages (from tb-nightly->basicsr>=1.4.2->realesrgan==0.3.0) (2.0.0)\n",
      "Requirement already satisfied: grpcio>=1.48.2 in /home/raunaqjabbal/miniconda3/lib/python3.11/site-packages (from tb-nightly->basicsr>=1.4.2->realesrgan==0.3.0) (1.59.0)\n",
      "Requirement already satisfied: google-auth<3,>=1.6.3 in /home/raunaqjabbal/miniconda3/lib/python3.11/site-packages (from tb-nightly->basicsr>=1.4.2->realesrgan==0.3.0) (2.23.2)\n",
      "Requirement already satisfied: google-auth-oauthlib<1.1,>=0.5 in /home/raunaqjabbal/miniconda3/lib/python3.11/site-packages (from tb-nightly->basicsr>=1.4.2->realesrgan==0.3.0) (1.0.0)\n",
      "Requirement already satisfied: markdown>=2.6.8 in /home/raunaqjabbal/miniconda3/lib/python3.11/site-packages (from tb-nightly->basicsr>=1.4.2->realesrgan==0.3.0) (3.4.4)\n",
      "Requirement already satisfied: protobuf<4.24,>=3.19.6 in /home/raunaqjabbal/miniconda3/lib/python3.11/site-packages (from tb-nightly->basicsr>=1.4.2->realesrgan==0.3.0) (4.23.4)\n",
      "Requirement already satisfied: six>1.9 in /home/raunaqjabbal/miniconda3/lib/python3.11/site-packages (from tb-nightly->basicsr>=1.4.2->realesrgan==0.3.0) (1.16.0)\n",
      "Requirement already satisfied: tensorboard-data-server<0.8.0,>=0.7.0 in /home/raunaqjabbal/miniconda3/lib/python3.11/site-packages (from tb-nightly->basicsr>=1.4.2->realesrgan==0.3.0) (0.7.1)\n",
      "Requirement already satisfied: werkzeug>=1.0.1 in /home/raunaqjabbal/miniconda3/lib/python3.11/site-packages (from tb-nightly->basicsr>=1.4.2->realesrgan==0.3.0) (3.0.0)\n",
      "Requirement already satisfied: importlib-metadata>=6.6.0 in /home/raunaqjabbal/miniconda3/lib/python3.11/site-packages (from yapf->basicsr>=1.4.2->realesrgan==0.3.0) (6.8.0)\n",
      "Requirement already satisfied: platformdirs>=3.5.1 in /home/raunaqjabbal/miniconda3/lib/python3.11/site-packages (from yapf->basicsr>=1.4.2->realesrgan==0.3.0) (3.10.0)\n",
      "Requirement already satisfied: tomli>=2.0.1 in /home/raunaqjabbal/miniconda3/lib/python3.11/site-packages (from yapf->basicsr>=1.4.2->realesrgan==0.3.0) (2.0.1)\n",
      "Requirement already satisfied: cachetools<6.0,>=2.0.0 in /home/raunaqjabbal/miniconda3/lib/python3.11/site-packages (from google-auth<3,>=1.6.3->tb-nightly->basicsr>=1.4.2->realesrgan==0.3.0) (5.3.1)\n",
      "Requirement already satisfied: pyasn1-modules>=0.2.1 in /home/raunaqjabbal/miniconda3/lib/python3.11/site-packages (from google-auth<3,>=1.6.3->tb-nightly->basicsr>=1.4.2->realesrgan==0.3.0) (0.3.0)\n",
      "Requirement already satisfied: rsa<5,>=3.1.4 in /home/raunaqjabbal/miniconda3/lib/python3.11/site-packages (from google-auth<3,>=1.6.3->tb-nightly->basicsr>=1.4.2->realesrgan==0.3.0) (4.9)\n",
      "Requirement already satisfied: requests-oauthlib>=0.7.0 in /home/raunaqjabbal/miniconda3/lib/python3.11/site-packages (from google-auth-oauthlib<1.1,>=0.5->tb-nightly->basicsr>=1.4.2->realesrgan==0.3.0) (1.3.1)\n",
      "Requirement already satisfied: zipp>=0.5 in /home/raunaqjabbal/miniconda3/lib/python3.11/site-packages (from importlib-metadata>=6.6.0->yapf->basicsr>=1.4.2->realesrgan==0.3.0) (3.17.0)\n",
      "Requirement already satisfied: contourpy>=1.0.1 in /home/raunaqjabbal/miniconda3/lib/python3.11/site-packages (from matplotlib->filterpy->facexlib>=0.2.5->realesrgan==0.3.0) (1.1.1)\n",
      "Requirement already satisfied: cycler>=0.10 in /home/raunaqjabbal/miniconda3/lib/python3.11/site-packages (from matplotlib->filterpy->facexlib>=0.2.5->realesrgan==0.3.0) (0.12.0)\n",
      "Requirement already satisfied: fonttools>=4.22.0 in /home/raunaqjabbal/miniconda3/lib/python3.11/site-packages (from matplotlib->filterpy->facexlib>=0.2.5->realesrgan==0.3.0) (4.43.0)\n",
      "Requirement already satisfied: kiwisolver>=1.0.1 in /home/raunaqjabbal/miniconda3/lib/python3.11/site-packages (from matplotlib->filterpy->facexlib>=0.2.5->realesrgan==0.3.0) (1.4.5)\n",
      "Requirement already satisfied: pyparsing>=2.3.1 in /home/raunaqjabbal/miniconda3/lib/python3.11/site-packages (from matplotlib->filterpy->facexlib>=0.2.5->realesrgan==0.3.0) (3.1.1)\n",
      "Requirement already satisfied: python-dateutil>=2.7 in /home/raunaqjabbal/miniconda3/lib/python3.11/site-packages (from matplotlib->filterpy->facexlib>=0.2.5->realesrgan==0.3.0) (2.8.2)\n",
      "Requirement already satisfied: pyasn1<0.6.0,>=0.4.6 in /home/raunaqjabbal/miniconda3/lib/python3.11/site-packages (from pyasn1-modules>=0.2.1->google-auth<3,>=1.6.3->tb-nightly->basicsr>=1.4.2->realesrgan==0.3.0) (0.5.0)\n",
      "Requirement already satisfied: oauthlib>=3.0.0 in /home/raunaqjabbal/miniconda3/lib/python3.11/site-packages (from requests-oauthlib>=0.7.0->google-auth-oauthlib<1.1,>=0.5->tb-nightly->basicsr>=1.4.2->realesrgan==0.3.0) (3.2.2)\n",
      "Building wheels for collected packages: realesrgan\n",
      "  Building wheel for realesrgan (setup.py) ... \u001b[?25ldone\n",
      "\u001b[?25h  Created wheel for realesrgan: filename=realesrgan-0.3.0-py3-none-any.whl size=26004 sha256=ec1361e08284d17eadc9123836beb45ad3b7255e998b66c846723032622b9518\n",
      "  Stored in directory: /home/raunaqjabbal/.cache/pip/wheels/7b/ec/f9/d13b564024229661c716ffa8e5b5c14c14a470b8cdad5e9628\n",
      "Successfully built realesrgan\n",
      "Installing collected packages: realesrgan\n",
      "  Attempting uninstall: realesrgan\n",
      "    Found existing installation: realesrgan 0.3.0\n",
      "    Uninstalling realesrgan-0.3.0:\n",
      "      Successfully uninstalled realesrgan-0.3.0\n",
      "Successfully installed realesrgan-0.3.0\n",
      "/home/raunaqjabbal/Video-pipeline\n"
     ]
    }
   ],
   "source": [
    "# ESRGAN\n",
    "!git clone https://github.com/xinntao/Real-ESRGAN.git\n",
    "%cd Real-ESRGAN\n",
    "# %pip install -qr requirements.txt\n",
    "# !pip install -q basicsr facexlib gfpgan ffmpeg-python\n",
    "# %pip install basicsr\n",
    "%pip install .\n",
    "%cd .."
   ]
  },
  {
   "cell_type": "code",
   "execution_count": 13,
   "metadata": {},
   "outputs": [
    {
     "name": "stdout",
     "output_type": "stream",
     "text": [
      "/\n"
     ]
    }
   ],
   "source": [
    "%cd .."
   ]
  },
  {
   "cell_type": "code",
   "execution_count": 4,
   "metadata": {},
   "outputs": [
    {
     "name": "stdout",
     "output_type": "stream",
     "text": [
      "/home/raunaqjabbal/Video-pipeline/LIHQ/first-order-model\n",
      "Downloading...\n",
      "From (uriginal): https://drive.google.com/uc?id=1DbjXD2nS3jlyCWoJu2HGcLZZjhLC9a2J\n",
      "From (redirected): https://drive.google.com/uc?id=1DbjXD2nS3jlyCWoJu2HGcLZZjhLC9a2J&confirm=t&uuid=7c2dda55-d481-4b5f-b0f7-610ed88b74b5\n",
      "To: /home/raunaqjabbal/Video-pipeline/LIHQ/first-order-model/vox-cpk.pth.tar\n",
      "100%|████████████████████████████████████████| 729M/729M [01:35<00:00, 7.61MB/s]\n",
      "/home/raunaqjabbal/Video-pipeline/LIHQ\n",
      "/home/raunaqjabbal/Video-pipeline\n"
     ]
    }
   ],
   "source": [
    "###FOMM\n",
    "# !git clone https://github.com/johnGettings/LIHQ\n",
    "\n",
    "# !pip install -r requirements.txt\n",
    "\n",
    "# %cd LIHQ\n",
    "# FOMM\n",
    "# !git clone https://github.com/AliaksandrSiarohin/first-order-model\n",
    "# # #Wav2Lip\n",
    "# !git clone https://github.com/Rudrabha/Wav2Lip.git\n",
    "# # #MODNet\n",
    "# !git clone https://github.com/ZHKKKe/MODNet\n",
    "\n",
    "# %cd first-order-model\n",
    "# # # getting model weights\n",
    "# !gdown 1DbjXD2nS3jlyCWoJu2HGcLZZjhLC9a2J\n",
    "# %cd ..\n",
    "# %cd ..\n",
    "\n",
    "\n",
    "##Wav2Lip\n",
    "# %cd LIHQ\n",
    "# %cd Wav2Lip\n",
    "# ## Downloading model weights\n",
    "# !gdown 1eAtM-Ck5RMyMMZoQuoQfYZRU5vDDwBpK -O './checkpoints/wav2lip_gan.pth'\n",
    "# !gdown 1eAtM-Ck5RMyMMZoQuoQfYZRU5vDDwBpK -O './checkpoints/wav2lip.pth'\n",
    "# !wget \"https://www.adrianbulat.com/downloads/python-fan/s3fd-619a316812.pth\" -O \"./face_detection/detection/sfd/s3fd.pth\"\n",
    "# %cd ..\n",
    "# %cd ..\n",
    "\n",
    "# ###MODNET\n",
    "# %cd LIHQ/MODNet\n",
    "# !gdown 1mcr7ALciuAsHCpLnrtG_eop5-EYhbCmz -O pretrained/modnet_photographic_portrait_matting.ckpt\n",
    "\n",
    "# %cd ..\n",
    "# %cd .."
   ]
  },
  {
   "cell_type": "code",
   "execution_count": 8,
   "metadata": {},
   "outputs": [
    {
     "name": "stdout",
     "output_type": "stream",
     "text": [
      "/home/raunaqjabbal/Video-pipeline/LIHQ/MODNet\n",
      "Downloading...\n",
      "From: https://drive.google.com/uc?id=1mcr7ALciuAsHCpLnrtG_eop5-EYhbCmz\n",
      "To: /home/raunaqjabbal/Video-pipeline/LIHQ/MODNet/pretrained/modnet_photographic_portrait_matting.ckpt\n",
      "100%|██████████████████████████████████████| 26.3M/26.3M [00:03<00:00, 7.32MB/s]\n",
      "/home/raunaqjabbal/Video-pipeline/LIHQ\n",
      "/home/raunaqjabbal/Video-pipeline\n"
     ]
    }
   ],
   "source": []
  }
 ],
 "metadata": {
  "kernelspec": {
   "display_name": "base",
   "language": "python",
   "name": "python3"
  },
  "language_info": {
   "codemirror_mode": {
    "name": "ipython",
    "version": 3
   },
   "file_extension": ".py",
   "mimetype": "text/x-python",
   "name": "python",
   "nbconvert_exporter": "python",
   "pygments_lexer": "ipython3",
   "version": "3.11.4"
  },
  "orig_nbformat": 4
 },
 "nbformat": 4,
 "nbformat_minor": 2
}
