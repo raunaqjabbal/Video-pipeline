{
 "cells": [
  {
   "cell_type": "code",
   "execution_count": 2,
   "metadata": {},
   "outputs": [],
   "source": [
    "# from utils import upscale_avatar, concatenate_audios, concatenate_videos, \\\n",
    "#     merge_audio_video, upscale_avatar, merge_video_avatar, change_video_speed\n",
    "# import glob \n",
    "# import os"
   ]
  },
  {
   "cell_type": "code",
   "execution_count": 2,
   "metadata": {},
   "outputs": [],
   "source": [
    "# from utils import crop_face\n",
    "# crop_face(filename = \"123456.png\", outfile= \"'demo.jpg\")"
   ]
  },
  {
   "cell_type": "code",
   "execution_count": 6,
   "metadata": {},
   "outputs": [],
   "source": [
    "%pip install -q torch"
   ]
  },
  {
   "cell_type": "code",
   "execution_count": 5,
   "metadata": {},
   "outputs": [
    {
     "name": "stderr",
     "output_type": "stream",
     "text": [
      "None of PyTorch, TensorFlow >= 2.0, or Flax have been found. Models won't be available and only tokenizers, configuration and file/data utilities can be used.\n"
     ]
    },
    {
     "ename": "ModuleNotFoundError",
     "evalue": "No module named 'torch'",
     "output_type": "error",
     "traceback": [
      "\u001b[0;31m---------------------------------------------------------------------------\u001b[0m",
      "\u001b[0;31mModuleNotFoundError\u001b[0m                       Traceback (most recent call last)",
      "\u001b[1;32m/home/raunaqjabbal/Video-pipeline/script.ipynb Cell 4\u001b[0m line \u001b[0;36m1\n\u001b[0;32m----> <a href='vscode-notebook-cell://wsl%2Bubuntu-22.04/home/raunaqjabbal/Video-pipeline/script.ipynb#W3sdnNjb2RlLXJlbW90ZQ%3D%3D?line=0'>1</a>\u001b[0m \u001b[39mfrom\u001b[39;00m \u001b[39mutils\u001b[39;00m \u001b[39mimport\u001b[39;00m generate_audio\n\u001b[1;32m      <a href='vscode-notebook-cell://wsl%2Bubuntu-22.04/home/raunaqjabbal/Video-pipeline/script.ipynb#W3sdnNjb2RlLXJlbW90ZQ%3D%3D?line=1'>2</a>\u001b[0m txt \u001b[39m=\u001b[39m {\u001b[39m\"\u001b[39m\u001b[39mSunoSpeaker1\u001b[39m\u001b[39m\"\u001b[39m:[\u001b[39m\"\u001b[39m\u001b[39mThis is a question about the properties of exponents. The question is asking for the equivalent expression of the given expression. The numerator of the expression is 7 to the power 8. Here 7 is the base raised to the exponent 8.\u001b[39m\u001b[39m\"\u001b[39m,\n\u001b[1;32m      <a href='vscode-notebook-cell://wsl%2Bubuntu-22.04/home/raunaqjabbal/Video-pipeline/script.ipynb#W3sdnNjb2RlLXJlbW90ZQ%3D%3D?line=2'>3</a>\u001b[0m        \u001b[39m\"\u001b[39m\u001b[39mWe can rewrite the denominator 7 as 7 to the power 1 since any number raised to the power of 1 is itself. Here 7 is the base raised to the exponent 1.\u001b[39m\u001b[39m\"\u001b[39m,\n\u001b[1;32m      <a href='vscode-notebook-cell://wsl%2Bubuntu-22.04/home/raunaqjabbal/Video-pipeline/script.ipynb#W3sdnNjb2RlLXJlbW90ZQ%3D%3D?line=3'>4</a>\u001b[0m        \u001b[39m\"\u001b[39m\u001b[39mNotice that the base of both the numerator and the denominator is 7. When we divide two numbers with the same base and different exponents, we subtract the exponents. This is called the Quotient rule of exponents as shown. Using this property of exponents, we can re-write the expression as 7 to the power 8 minus 1, which equals 7 to the power of 7.\u001b[39m\u001b[39m\"\u001b[39m,\n\u001b[1;32m      <a href='vscode-notebook-cell://wsl%2Bubuntu-22.04/home/raunaqjabbal/Video-pipeline/script.ipynb#W3sdnNjb2RlLXJlbW90ZQ%3D%3D?line=4'>5</a>\u001b[0m        \u001b[39m\"\u001b[39m\u001b[39mTherefore, the expression is equivalent to 7 to the power 7\u001b[39m\u001b[39m\"\u001b[39m\n\u001b[1;32m      <a href='vscode-notebook-cell://wsl%2Bubuntu-22.04/home/raunaqjabbal/Video-pipeline/script.ipynb#W3sdnNjb2RlLXJlbW90ZQ%3D%3D?line=5'>6</a>\u001b[0m        ]}\n\u001b[1;32m      <a href='vscode-notebook-cell://wsl%2Bubuntu-22.04/home/raunaqjabbal/Video-pipeline/script.ipynb#W3sdnNjb2RlLXJlbW90ZQ%3D%3D?line=7'>8</a>\u001b[0m generate_audio(txt)\n",
      "File \u001b[0;32m~/Video-pipeline/utils.py:9\u001b[0m\n\u001b[1;32m      7\u001b[0m \u001b[39mfrom\u001b[39;00m \u001b[39mmoviepy\u001b[39;00m\u001b[39m.\u001b[39;00m\u001b[39meditor\u001b[39;00m \u001b[39mimport\u001b[39;00m vfx \u001b[39mas\u001b[39;00m _vfx\n\u001b[1;32m      8\u001b[0m \u001b[39mfrom\u001b[39;00m \u001b[39mtransformers\u001b[39;00m \u001b[39mimport\u001b[39;00m AutoProcessor, AutoModel\n\u001b[0;32m----> 9\u001b[0m \u001b[39mimport\u001b[39;00m \u001b[39mtorch\u001b[39;00m\n\u001b[1;32m     10\u001b[0m \u001b[39mimport\u001b[39;00m \u001b[39mnumpy\u001b[39;00m \u001b[39mas\u001b[39;00m \u001b[39mnp\u001b[39;00m\n\u001b[1;32m     11\u001b[0m \u001b[39mimport\u001b[39;00m \u001b[39mos\u001b[39;00m\n",
      "\u001b[0;31mModuleNotFoundError\u001b[0m: No module named 'torch'"
     ]
    }
   ],
   "source": [
    "from utils import generate_audio\n",
    "txt = {\"SunoSpeaker1\":[\"This is a question about the properties of exponents. The question is asking for the equivalent expression of the given expression. The numerator of the expression is 7 to the power 8. Here 7 is the base raised to the exponent 8.\",\n",
    "       \"We can rewrite the denominator 7 as 7 to the power 1 since any number raised to the power of 1 is itself. Here 7 is the base raised to the exponent 1.\",\n",
    "       \"Notice that the base of both the numerator and the denominator is 7. When we divide two numbers with the same base and different exponents, we subtract the exponents. This is called the Quotient rule of exponents as shown. Using this property of exponents, we can re-write the expression as 7 to the power 8 minus 1, which equals 7 to the power of 7.\",\n",
    "       \"Therefore, the expression is equivalent to 7 to the power 7\"\n",
    "       ]}\n",
    "\n",
    "generate_audio(txt)"
   ]
  },
  {
   "cell_type": "code",
   "execution_count": 1,
   "metadata": {},
   "outputs": [
    {
     "name": "stdout",
     "output_type": "stream",
     "text": [
      "HAHA /home/raunaqjabbal/Video-pipeline/LIHQ/first_order_model\n",
      "/home/raunaqjabbal/Video-pipeline\n",
      "Initializing\n",
      "Moviepy - Building video ./first_order_model/input-ref-vid/SunoSpeaker0/SunoSpeaker0.mp4.\n",
      "Moviepy - Writing video ./first_order_model/input-ref-vid/SunoSpeaker0/SunoSpeaker0.mp4\n",
      "\n"
     ]
    },
    {
     "name": "stderr",
     "output_type": "stream",
     "text": [
      "                                                                  \r"
     ]
    },
    {
     "name": "stdout",
     "output_type": "stream",
     "text": [
      "Moviepy - Done !\n",
      "Moviepy - video ready ./first_order_model/input-ref-vid/SunoSpeaker0/SunoSpeaker0.mp4\n",
      "Running First Order Motion Model\n"
     ]
    },
    {
     "ename": "",
     "evalue": "",
     "output_type": "error",
     "traceback": [
      "\u001b[1;31mThe Kernel crashed while executing code in the the current cell or a previous cell. Please review the code in the cell(s) to identify a possible cause of the failure. Click <a href='https://aka.ms/vscodeJupyterKernelCrash'>here</a> for more info. View Jupyter <a href='command:jupyter.viewOutput'>log</a> for further details."
     ]
    }
   ],
   "source": [
    "from LIHQ import runLIHQ\n",
    "runLIHQ.run(face=\"123456.png\")"
   ]
  }
 ],
 "metadata": {
  "kernelspec": {
   "display_name": "base",
   "language": "python",
   "name": "python3"
  },
  "language_info": {
   "codemirror_mode": {
    "name": "ipython",
    "version": 3
   },
   "file_extension": ".py",
   "mimetype": "text/x-python",
   "name": "python",
   "nbconvert_exporter": "python",
   "pygments_lexer": "ipython3",
   "version": "3.11.4"
  },
  "orig_nbformat": 4
 },
 "nbformat": 4,
 "nbformat_minor": 2
}
