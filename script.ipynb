{
 "cells": [
  {
   "cell_type": "code",
   "execution_count": 2,
   "metadata": {},
   "outputs": [],
   "source": [
    "# from utils import upscale_avatar, concatenate_audios, concatenate_videos, \\\n",
    "#     merge_audio_video, upscale_avatar, merge_video_avatar, change_video_speed\n",
    "# import glob \n",
    "# import os"
   ]
  },
  {
   "cell_type": "code",
   "execution_count": 2,
   "metadata": {},
   "outputs": [],
   "source": [
    "# from utils import crop_face\n",
    "# crop_face(filename = \"123456.png\", outfile= \"'demo.jpg\")"
   ]
  },
  {
   "cell_type": "code",
   "execution_count": 1,
   "metadata": {},
   "outputs": [
    {
     "name": "stdout",
     "output_type": "stream",
     "text": [
      "HAHA /home/raunaqjabbal/Video-pipeline/LIHQ/first_order_model\n",
      "/home/raunaqjabbal/Video-pipeline\n",
      "Initializing\n",
      "Moviepy - Building video ./first_order_model/input-ref-vid/SunoSpeaker0/SunoSpeaker0.mp4.\n",
      "Moviepy - Writing video ./first_order_model/input-ref-vid/SunoSpeaker0/SunoSpeaker0.mp4\n",
      "\n"
     ]
    },
    {
     "name": "stderr",
     "output_type": "stream",
     "text": [
      "                                                                  \r"
     ]
    },
    {
     "name": "stdout",
     "output_type": "stream",
     "text": [
      "Moviepy - Done !\n",
      "Moviepy - video ready ./first_order_model/input-ref-vid/SunoSpeaker0/SunoSpeaker0.mp4\n",
      "Running First Order Motion Model\n"
     ]
    },
    {
     "ename": "",
     "evalue": "",
     "output_type": "error",
     "traceback": [
      "\u001b[1;31mThe Kernel crashed while executing code in the the current cell or a previous cell. Please review the code in the cell(s) to identify a possible cause of the failure. Click <a href='https://aka.ms/vscodeJupyterKernelCrash'>here</a> for more info. View Jupyter <a href='command:jupyter.viewOutput'>log</a> for further details."
     ]
    }
   ],
   "source": [
    "from LIHQ import runLIHQ\n",
    "runLIHQ.run(face=\"123456.png\")"
   ]
  }
 ],
 "metadata": {
  "kernelspec": {
   "display_name": "base",
   "language": "python",
   "name": "python3"
  },
  "language_info": {
   "codemirror_mode": {
    "name": "ipython",
    "version": 3
   },
   "file_extension": ".py",
   "mimetype": "text/x-python",
   "name": "python",
   "nbconvert_exporter": "python",
   "pygments_lexer": "ipython3",
   "version": "3.11.4"
  },
  "orig_nbformat": 4
 },
 "nbformat": 4,
 "nbformat_minor": 2
}
